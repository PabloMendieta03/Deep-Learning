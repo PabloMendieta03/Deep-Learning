{
  "nbformat": 4,
  "nbformat_minor": 0,
  "metadata": {
    "colab": {
      "provenance": [],
      "authorship_tag": "ABX9TyPQ+/y3A+LdQirmYP+fyL92",
      "include_colab_link": true
    },
    "kernelspec": {
      "name": "python3",
      "display_name": "Python 3"
    },
    "language_info": {
      "name": "python"
    }
  },
  "cells": [
    {
      "cell_type": "markdown",
      "metadata": {
        "id": "view-in-github",
        "colab_type": "text"
      },
      "source": [
        "<a href=\"https://colab.research.google.com/github/PabloMendieta03/Deep-Learning/blob/main/Practica1/PW1_red_2_4.ipynb\" target=\"_parent\"><img src=\"https://colab.research.google.com/assets/colab-badge.svg\" alt=\"Open In Colab\"/></a>"
      ]
    },
    {
      "cell_type": "markdown",
      "source": [
        "# **PRÁCTICA 1 - Computer Vision**"
      ],
      "metadata": {
        "id": "i5-s5g_1of0l"
      }
    },
    {
      "cell_type": "markdown",
      "source": [
        "## **Fase 1 - Preparación del entorno**\n",
        "\n",
        "### Aquarium > raw-1024\n",
        "https://public.roboflow.ai/object-detection/aquarium\n",
        "\n",
        "Provided by [Roboflow](https://roboflow.com)\n",
        "License: CC BY 4.0\n",
        "\n",
        "![CreateML Output](https://i.imgur.com/s4PgS4X.gif)\n",
        "\n",
        "#### Dataset Details\n",
        "\n",
        "This dataset consists of 638 images collected by Roboflow from two aquariums in the United States: The Henry Doorly Zoo in Omaha (October 16, 2020) and the National Aquarium in Baltimore (November 14, 2020). The images were labeled for object detection by the Roboflow team (with some help from SageMaker Ground Truth). Images and annotations are released under a Creative Commons By-Attribution license. You are free to use them for any purposes personal, commercial, or academic provided you give acknowledgement of their source.\n",
        "\n",
        "#### Class Breakdown\n",
        "\n",
        "The following classes are labeled: fish, jellyfish, penguins, sharks, puffins, stingrays, and starfish. Most images contain multiple bounding boxes.\n",
        "\n",
        "![Class Balance](https://i.imgur.com/lFzeXsT.png)\n",
        "\n",
        "#### Usage\n",
        "\n",
        "The dataset is provided in many popular formats for easily training machine learning models. We have [trained a model with CreateML](https://blog.roboflow.com/createml/) (see gif above).\n",
        "\n",
        "This dataset could be used for coral reef [conservation](https://blog.roboflow.com/how-this-fulbright-scholar-is-using-computer-vision-to/), [environmental health monitoring](https://blog.roboflow.com/using-computer-vision-to-count-fish-populations/), swimmer [safety](https://roboflow.com/industries/safety-and-security), pet analytics, automated feeding, and much more. We're excited to see what you build!\n"
      ],
      "metadata": {
        "id": "txHPUO4_okZB"
      }
    },
    {
      "cell_type": "code",
      "execution_count": null,
      "metadata": {
        "id": "9gNhU48ooWvm"
      },
      "outputs": [],
      "source": [
        "# importacióm de librerías\n",
        "\n",
        "import os\n",
        "import shutil\n",
        "import pandas as pd\n",
        "import zipfile\n",
        "from PIL import Image\n"
      ]
    },
    {
      "cell_type": "code",
      "source": [
        "# Descarga de la Base de Datos\n",
        "\n",
        "!wget --no-check-certificate \\\n",
        "    \"https://github.com/PabloMendieta03/Deep-Learning/raw/main/Practica1/practica_1_dataset.zip\" \\\n",
        "    -O /content/practica_1_dataset.zip"
      ],
      "metadata": {
        "id": "4odFCiSEouQ6"
      },
      "execution_count": null,
      "outputs": []
    },
    {
      "cell_type": "code",
      "source": [
        "# Extraemos la información del .zip\n",
        "local_zip = './practica_1_dataset.zip'\n",
        "zip_ref = zipfile.ZipFile(local_zip, 'r')\n",
        "zip_ref.extractall('./practica_1_dataset')\n",
        "\n",
        "\n",
        "subfolders = ['train', 'valid', 'test']\n",
        "output_dir = './'\n",
        "\n",
        "for subfolder in subfolders:\n",
        "    direccion = os.path.join('./practica_1_dataset', subfolder)\n",
        "\n",
        "    # Leer el CSV\n",
        "    csv_path = os.path.join(direccion, 'annotations.csv')\n",
        "    df = pd.read_csv(csv_path)\n",
        "\n",
        "    # Iterar en el CSV\n",
        "    for index, row in df.iterrows():\n",
        "        filename = os.path.join(direccion, row['filename'])\n",
        "        clase = row['class']\n",
        "        xmin, ymin, xmax, ymax = row['xmin'], row['ymin'], row['xmax'], row['ymax']\n",
        "\n",
        "        # Crear el directorio para la clase si no existe\n",
        "        class_dir = os.path.join(output_dir, subfolder, str(clase))\n",
        "        if not os.path.exists(class_dir):\n",
        "            os.makedirs(class_dir)\n",
        "\n",
        "        # Procesar la imagen\n",
        "        if os.path.exists(filename):\n",
        "            # Abrir la imagen\n",
        "            img = Image.open(filename)\n",
        "\n",
        "            # Recortar la imagen con la región de interés (ROI)\n",
        "            img_cropped = img.crop((xmin, ymin, xmax, ymax))\n",
        "            img_cropped = img_cropped.resize((224, 224))\n",
        "\n",
        "            # Generar un nombre único para cada imagen recortada\n",
        "            base_name = os.path.basename(filename)  # Obtener el nombre base del archivo\n",
        "            name_without_ext, ext = os.path.splitext(base_name)  # Separar nombre y extensión\n",
        "            new_filename = f\"{name_without_ext}_crop{index}{ext}\"  # Agregar el sufijo con el índice\n",
        "\n",
        "            # Guardar la imagen recortada con el nombre único\n",
        "            img_cropped.save(os.path.join(class_dir, new_filename))\n",
        "        else:\n",
        "            print(f\"Imagen no encontrada: {filename}\")\n",
        "\n",
        "print(\"Regiones de interés (ROIs) guardadas :D\")\n",
        "\n"
      ],
      "metadata": {
        "id": "GXF3kPDZo1ha"
      },
      "execution_count": null,
      "outputs": []
    },
    {
      "cell_type": "code",
      "source": [],
      "metadata": {
        "id": "6CkTOdPou-Ur"
      },
      "execution_count": null,
      "outputs": []
    },
    {
      "cell_type": "markdown",
      "source": [
        "## **Fase 2: Implementación en modo Fine-Tunning**"
      ],
      "metadata": {
        "id": "E_-pT3Gypnni"
      }
    },
    {
      "cell_type": "code",
      "source": [],
      "metadata": {
        "id": "vHSriuN9ptX6"
      },
      "execution_count": null,
      "outputs": []
    },
    {
      "cell_type": "markdown",
      "source": [
        "## **Fase 3: Evaluación**"
      ],
      "metadata": {
        "id": "tLYtkTOBpuBc"
      }
    },
    {
      "cell_type": "code",
      "source": [],
      "metadata": {
        "id": "QpbT438FpyUN"
      },
      "execution_count": null,
      "outputs": []
    }
  ]
}